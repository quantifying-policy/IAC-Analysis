{
 "cells": [
  {
   "cell_type": "markdown",
   "metadata": {},
   "source": [
    "# Consolidation\n",
    "This is a crucial part of the project. All the pre-processing, adding features, and topic modelling from steps 3 and 4 are consolidated here. The new data structure, \"central_dict\", will contain the abstract along with all the necessary information for analysis in step 5."
   ]
  },
  {
   "cell_type": "code",
   "execution_count": 2,
   "metadata": {},
   "outputs": [
    {
     "ename": "NameError",
     "evalue": "name 'pwd' is not defined",
     "output_type": "error",
     "traceback": [
      "\u001b[1;31m---------------------------------------------------------------------------\u001b[0m",
      "\u001b[1;31mNameError\u001b[0m                                 Traceback (most recent call last)",
      "\u001b[1;32m<ipython-input-2-16d65cda56f2>\u001b[0m in \u001b[0;36m<module>\u001b[1;34m\u001b[0m\n\u001b[0;32m      1\u001b[0m \u001b[1;32mimport\u001b[0m \u001b[0mos\u001b[0m\u001b[1;33m\u001b[0m\u001b[1;33m\u001b[0m\u001b[0m\n\u001b[1;32m----> 2\u001b[1;33m \u001b[0mpwd\u001b[0m\u001b[1;33m\u001b[0m\u001b[1;33m\u001b[0m\u001b[0m\n\u001b[0m",
      "\u001b[1;31mNameError\u001b[0m: name 'pwd' is not defined"
     ]
    }
   ],
   "source": [
    "import os\n",
    "pwd"
   ]
  },
  {
   "cell_type": "code",
   "execution_count": 3,
   "metadata": {},
   "outputs": [
    {
     "data": {
      "text/plain": [
       "'C:\\\\Users\\\\Admin\\\\IAC Analysis\\\\4. Consolidation'"
      ]
     },
     "execution_count": 3,
     "metadata": {},
     "output_type": "execute_result"
    }
   ],
   "source": [
    "pwd"
   ]
  },
  {
   "cell_type": "code",
   "execution_count": 1,
   "metadata": {
    "executionInfo": {
     "elapsed": 386,
     "status": "ok",
     "timestamp": 1667933191624,
     "user": {
      "displayName": "Daniel Leichte",
      "userId": "15787498902779762448"
     },
     "user_tz": -60
    },
    "id": "4618Q9Cq454A"
   },
   "outputs": [],
   "source": [
    "import pickle\n",
    "import pandas as pd"
   ]
  },
  {
   "cell_type": "markdown",
   "metadata": {
    "id": "MVeEEqTL4_Zy"
   },
   "source": [
    "## 1. Importing"
   ]
  },
  {
   "cell_type": "markdown",
   "metadata": {
    "id": "3GS5sLnl5FT6"
   },
   "source": [
    "This is the raw inputs from step 1 (HTML_Parsing):"
   ]
  },
  {
   "cell_type": "code",
   "execution_count": 2,
   "metadata": {
    "executionInfo": {
     "elapsed": 1593,
     "status": "ok",
     "timestamp": 1667933193212,
     "user": {
      "displayName": "Daniel Leichte",
      "userId": "15787498902779762448"
     },
     "user_tz": -60
    },
    "id": "ItkAZN_a49xu"
   },
   "outputs": [],
   "source": [
    "directory = \"/content/drive/MyDrive/Colab Notebooks/ESPI_Codes/IAC_Analysis/1.HTML_Parsing/\"\n",
    "with open(directory+\"IAC_raw_data.pickle\", \"rb\") as handle:\n",
    "  raw_data = pickle.load(handle)"
   ]
  },
  {
   "cell_type": "markdown",
   "metadata": {
    "id": "xXGf1f755K0t"
   },
   "source": [
    "This is the simplified dictionary containing organisation names and types from step 2 (Pre-Processing). It includes as key the paper id and as value the organisation names and their types."
   ]
  },
  {
   "cell_type": "code",
   "execution_count": 3,
   "metadata": {
    "executionInfo": {
     "elapsed": 579,
     "status": "ok",
     "timestamp": 1667933193782,
     "user": {
      "displayName": "Daniel Leichte",
      "userId": "15787498902779762448"
     },
     "user_tz": -60
    },
    "id": "33uUM_6d5IL5"
   },
   "outputs": [],
   "source": [
    "directory = \"/content/drive/MyDrive/Colab Notebooks/ESPI_Codes/IAC_Analysis/2.Pre-Processing/\"\n",
    "with open(directory+\"2b.orga_names_and_types.pickle\", \"rb\") as handle:\n",
    "  orga_names_types = pickle.load(handle)"
   ]
  },
  {
   "cell_type": "markdown",
   "metadata": {
    "id": "cOcjmNbs5dZW"
   },
   "source": [
    "This is the simplified dictionary containing the cleaned abstracts from step 2 (Pre-Processing). This is used for the lexical search."
   ]
  },
  {
   "cell_type": "code",
   "execution_count": 4,
   "metadata": {
    "executionInfo": {
     "elapsed": 847,
     "status": "ok",
     "timestamp": 1667933194623,
     "user": {
      "displayName": "Daniel Leichte",
      "userId": "15787498902779762448"
     },
     "user_tz": -60
    },
    "id": "nj03gzyq5KJ_"
   },
   "outputs": [],
   "source": [
    "directory = \"/content/drive/MyDrive/Colab Notebooks/ESPI_Codes/IAC_Analysis/2.Pre-Processing/\"\n",
    "with open(directory+\"2c.cleaned_abstracts.pickle\", \"rb\") as handle:\n",
    "  abstracts = pickle.load(handle)"
   ]
  },
  {
   "cell_type": "markdown",
   "metadata": {
    "id": "My8TT9eU6Pc2"
   },
   "source": [
    "This is the simplified dictionary containing topic numbers and names from step 3 (Topic Modeling)."
   ]
  },
  {
   "cell_type": "code",
   "execution_count": 5,
   "metadata": {
    "executionInfo": {
     "elapsed": 798,
     "status": "ok",
     "timestamp": 1667933195418,
     "user": {
      "displayName": "Daniel Leichte",
      "userId": "15787498902779762448"
     },
     "user_tz": -60
    },
    "id": "KmBTafvi6FFQ"
   },
   "outputs": [],
   "source": [
    "directory = \"/content/drive/MyDrive/Colab Notebooks/ESPI_Codes/IAC_Analysis/3.Topic_Modeling/\"\n",
    "with open(directory+\"3a.doc_topic_name_number.pickle\", \"rb\") as handle:\n",
    "  topic_name_number = pickle.load(handle)"
   ]
  },
  {
   "cell_type": "markdown",
   "metadata": {
    "id": "7kiGRUaKSXGF"
   },
   "source": [
    "This is a dictionary with top2vec ids as keys and the corresponding paper_id as value:"
   ]
  },
  {
   "cell_type": "code",
   "execution_count": 6,
   "metadata": {
    "executionInfo": {
     "elapsed": 408,
     "status": "ok",
     "timestamp": 1667933195820,
     "user": {
      "displayName": "Daniel Leichte",
      "userId": "15787498902779762448"
     },
     "user_tz": -60
    },
    "id": "PJExG0nFSDFz"
   },
   "outputs": [],
   "source": [
    "directory = \"/content/drive/MyDrive/Colab Notebooks/ESPI_Codes/IAC_Analysis/3.Topic_Modeling/\"\n",
    "with open(directory+\"3a.top2vec_paper_id_dict.pickle\", \"rb\") as handle:\n",
    "  top2vec_paper_id_dict = pickle.load(handle)"
   ]
  },
  {
   "cell_type": "markdown",
   "metadata": {
    "id": "3-ZyTcZK6WLQ"
   },
   "source": [
    "## 2. Creating the Central Dict:"
   ]
  },
  {
   "cell_type": "markdown",
   "metadata": {
    "id": "FRngvzl16uab"
   },
   "source": [
    "The central dict will contain all the relevant information. Its keys is the year+doc_id. As values it will contain country, organisation(s), organisation type, cleaned abstract, topic number and name."
   ]
  },
  {
   "cell_type": "markdown",
   "metadata": {
    "id": "1gh81vHV7UgM"
   },
   "source": [
    "### 2a. Adding the organisation types directly into the raw_data dict from step 1 (HTML Parsing):"
   ]
  },
  {
   "cell_type": "code",
   "execution_count": 7,
   "metadata": {
    "executionInfo": {
     "elapsed": 12,
     "status": "ok",
     "timestamp": 1667933195821,
     "user": {
      "displayName": "Daniel Leichte",
      "userId": "15787498902779762448"
     },
     "user_tz": -60
    },
    "id": "cnInzhLf7UB2"
   },
   "outputs": [],
   "source": [
    "for key, value in raw_data.items():\n",
    "  for id, info in value.items():\n",
    "    raw_data[key][id].update({\"organisations\": orga_names_types[id]})"
   ]
  },
  {
   "cell_type": "markdown",
   "metadata": {
    "id": "KL9-cUFz7jlS"
   },
   "source": [
    "### 2b. Creating the Central Dict:"
   ]
  },
  {
   "cell_type": "code",
   "execution_count": 8,
   "metadata": {
    "executionInfo": {
     "elapsed": 12,
     "status": "ok",
     "timestamp": 1667933195822,
     "user": {
      "displayName": "Daniel Leichte",
      "userId": "15787498902779762448"
     },
     "user_tz": -60
    },
    "id": "6g9z6edy7hjG"
   },
   "outputs": [],
   "source": [
    "central_dict = {}\n",
    "for key, value in raw_data.items():\n",
    "  for id, info in value.items():\n",
    "    combined_id = info[\"year\"]+\"_\"+info[\"paper_id\"]\n",
    "    central_dict.update({combined_id: {}})\n",
    "    central_dict[combined_id].update({\"Paper_id\": info[\"paper_id\"],\n",
    "                                      \"Top2Vec_id\": \"\",\n",
    "                                      \"Year\": info[\"year\"],\n",
    "                                      \"Country\": info[\"country\"],\n",
    "                                      \"Region\": \"\",\n",
    "                                      \"Topic Number\": 0,\n",
    "                                      \"Topic Name\": \"\",\n",
    "                                      \"Organisations\": info[\"organisations\"],\n",
    "                                      \"Abstract\": \"\"\n",
    "                                      })"
   ]
  },
  {
   "cell_type": "markdown",
   "metadata": {
    "id": "2uOEtX9H7tqG"
   },
   "source": [
    "### 2c. Adding the cleaned abstracts:"
   ]
  },
  {
   "cell_type": "code",
   "execution_count": 9,
   "metadata": {
    "executionInfo": {
     "elapsed": 12,
     "status": "ok",
     "timestamp": 1667933195823,
     "user": {
      "displayName": "Daniel Leichte",
      "userId": "15787498902779762448"
     },
     "user_tz": -60
    },
    "id": "y48iLgC38mex"
   },
   "outputs": [],
   "source": [
    "for id, info in central_dict.items():\n",
    "  info[\"Abstract\"] = abstracts[info[\"Paper_id\"]]"
   ]
  },
  {
   "cell_type": "markdown",
   "metadata": {
    "id": "TdQwkC2I83Jx"
   },
   "source": [
    "### 2d. Adding regions (continents)\n",
    "The data should also be searchable by region. These lists will enable that. I'll add them to the central dict a bit later. Note that the lists only contain countries that come up in the data set at least once; if a new country joins it would need to be added."
   ]
  },
  {
   "cell_type": "code",
   "execution_count": 10,
   "metadata": {
    "executionInfo": {
     "elapsed": 265,
     "status": "ok",
     "timestamp": 1667933196077,
     "user": {
      "displayName": "Daniel Leichte",
      "userId": "15787498902779762448"
     },
     "user_tz": -60
    },
    "id": "Cz51GIrl-IaQ"
   },
   "outputs": [],
   "source": [
    "Europe = [\"Italy\", \"Germany\", \"Belgium\", \"United Kingdom\", \"The Netherlands\", \"France\", \"Austria\", \"Russian Federation\", \"Greece\", \"Portugal\", \"Malta\", \"Ukraine\", \"Spain\", \"Poland\", \"Luxembourg\", \"Switzerland\", \"Norway\",\n",
    "          \"Denmark\", \"Sweden\", \"Romania\", \"Ireland\", \"Czech Republic\", \"Hungary\", \"Finland\", \"Estonia\", \"Belarus\", \"Slovenia\", \"Slovak Republic\", \"Lithuania\", \"Cyprus\", \"Latvia\", \"Bulgaria\", \"Serbia\", \"Iceland\", \"Croatia\"]\n",
    "\n",
    "Asia = [\"Israel\", \"Japan\", \"China\", \"Iran\", \"United Arab Emirates\", \"Taiwan, China\", \"India\", \"Hong Kong\", \"Thailand\", \"Korea, Republic of\", \"Bangladesh\", \"Indonesia\", \"Pakistan\", \"Malaysia\",\n",
    "        \"Singapore, Republic of\", \"The Philippines\", \"Korea, Democratic People's Republic of\", \"Nepal\", \"Kuwait\", \"Turkey\", \"Taipei\", \"Kazakhstan\", \"Cambodia\", \"Bahrain\", \"Saudi Arabia\", \"Qatar\", \"Jordan\",\n",
    "        \"Azerbaijan\", \"Mongolia\", \"Sri Lanka\"]\n",
    "\n",
    "Americas = [\"United States\", \"Canada\", \"Brazil\", \"Peru\", \"Mexico\", \"Chile\", \"Ecuador\", \"Paraguay\", \"Bolivia\", \"Colombia\", \"Costa Rica\", \"Puerto Rico\", \"Argentina\", \"Venezuela\", \"Uruguay\", \"Panama\", \"Guatemala\",\n",
    "            \"Honduras\", \"Guyana\", \"French Guiana\", \"Netherlands Antilles\"]\n",
    "\n",
    "Oceania = [\"Australia\", \"New Zealand\"]\n",
    "\n",
    "Africa = [\"Ghana\", \"South Africa\", \"Nigeria\", \"Ethiopia\", \"Sudan\", \"Kenya\", \"Algeria\", \"Botswana\", \"Zimbabwe\", \"Togo\", \"Angola\", \"Egypt\", \"Cameroon\", \"Morocco\", \"Mauritius\", \"La Reunion\"]\n",
    "\n",
    "#Adding a searchable dict:\n",
    "countries_dict = {\"Europe\": Europe, \"Asia\": Asia, \"Americas\": Americas, \"Oceania\": Oceania, \"Africa\": Africa}"
   ]
  },
  {
   "cell_type": "code",
   "execution_count": null,
   "metadata": {
    "id": "MEk7K83J9DN2"
   },
   "outputs": [],
   "source": [
    "for key, value in central_dict.items():\n",
    "  for region, countries in countries_dict.items():\n",
    "    if value[\"Country\"] in countries:\n",
    "      value[\"Region\"] = region"
   ]
  },
  {
   "cell_type": "markdown",
   "metadata": {
    "id": "MrIA-RbP-WzU"
   },
   "source": [
    "### 2e. Adding Organisations"
   ]
  },
  {
   "cell_type": "code",
   "execution_count": null,
   "metadata": {
    "id": "v0YI8h1b-NmY"
   },
   "outputs": [],
   "source": [
    "orga_type_freq = {}\n",
    "for key, value in central_dict.items():\n",
    "  orga_type_freq.update({key: {\"University\": 0, \"Space Agency\": 0, \"Other Research Institution\": 0, \"Company\": 0, \"Other\": 0, \"Unknown\": 0}})\n",
    "  for orgas_list in value[\"Organisations\"]:\n",
    "    for type_name, info in orgas_list.items():\n",
    "      if type_name == \"Type\":\n",
    "        orga_type_freq[key][info] += 1\n",
    "\n",
    "\n",
    "#Adding this to central_dict, such that each orga_type is an individual key next to things like Country and Topic Name:\n",
    "for key, value in central_dict.items():\n",
    "    central_dict[key].update(orga_type_freq[key])"
   ]
  },
  {
   "cell_type": "markdown",
   "metadata": {
    "id": "arTOSa5lSpVM"
   },
   "source": [
    "##2f. Adding top2vec ids\n",
    "Top2Vec ids differ from the paper_ids. They are enumerated per year and have in the beginning the year like \"2018_1\" for the first paper."
   ]
  },
  {
   "cell_type": "code",
   "execution_count": null,
   "metadata": {
    "id": "5cYdN19ZYOqx"
   },
   "outputs": [],
   "source": [
    "for key, value in central_dict.items():\n",
    "  value[\"Top2Vec_id\"] = top2vec_paper_id_dict[value[\"Paper_id\"]]"
   ]
  },
  {
   "cell_type": "markdown",
   "metadata": {
    "id": "pu83K4qG-gJJ"
   },
   "source": [
    "### 2g. Adding topics"
   ]
  },
  {
   "cell_type": "code",
   "execution_count": null,
   "metadata": {
    "id": "EO-JWhTjaoa2"
   },
   "outputs": [],
   "source": [
    "for key, value in central_dict.items():\n",
    "  value[\"Topic Number\"] = topic_name_number[value[\"Top2Vec_id\"]][\"topic number\"]\n",
    "  value[\"Topic Name\"] = topic_name_number[value[\"Top2Vec_id\"]][\"topic name\"]"
   ]
  },
  {
   "cell_type": "markdown",
   "metadata": {
    "id": "ukPwOUgGcEoD"
   },
   "source": [
    "## 3. Exporting"
   ]
  },
  {
   "cell_type": "markdown",
   "metadata": {
    "id": "FBBJH0onkNwY"
   },
   "source": [
    "Central dict:"
   ]
  },
  {
   "cell_type": "code",
   "execution_count": null,
   "metadata": {
    "id": "AOO7ORvEcHKg"
   },
   "outputs": [],
   "source": [
    "with open(\"4.central_dict.pickle\", \"wb\") as f:\n",
    "  pickle.dump(central_dict, f, protocol= pickle.HIGHEST_PROTOCOL)"
   ]
  },
  {
   "cell_type": "markdown",
   "metadata": {
    "id": "hRSTObsXkP7g"
   },
   "source": [
    "Countries/regions dict:"
   ]
  },
  {
   "cell_type": "code",
   "execution_count": 11,
   "metadata": {
    "executionInfo": {
     "elapsed": 233,
     "status": "ok",
     "timestamp": 1667933269600,
     "user": {
      "displayName": "Daniel Leichte",
      "userId": "15787498902779762448"
     },
     "user_tz": -60
    },
    "id": "HAHPCCf5kTo5"
   },
   "outputs": [],
   "source": [
    "with open(\"4.countries_dict.pickle\", \"wb\") as f:\n",
    "  pickle.dump(countries_dict, f, protocol = pickle.HIGHEST_PROTOCOL)"
   ]
  },
  {
   "cell_type": "markdown",
   "metadata": {},
   "source": [
    "# 4. Conclusion\n",
    "Now, all the relevant information is stored in central_dict. In step 5, I'll analyse the data."
   ]
  },
  {
   "cell_type": "code",
   "execution_count": null,
   "metadata": {},
   "outputs": [],
   "source": []
  }
 ],
 "metadata": {
  "colab": {
   "authorship_tag": "ABX9TyOI7pRi6fCLuuGdQyddjfxN",
   "collapsed_sections": [],
   "mount_file_id": "1_PLSimC992mm663FgcWlPo05OsrhzWvN",
   "provenance": []
  },
  "kernelspec": {
   "display_name": "Python 3",
   "language": "python",
   "name": "python3"
  },
  "language_info": {
   "codemirror_mode": {
    "name": "ipython",
    "version": 3
   },
   "file_extension": ".py",
   "mimetype": "text/x-python",
   "name": "python",
   "nbconvert_exporter": "python",
   "pygments_lexer": "ipython3",
   "version": "3.8.8"
  }
 },
 "nbformat": 4,
 "nbformat_minor": 1
}
