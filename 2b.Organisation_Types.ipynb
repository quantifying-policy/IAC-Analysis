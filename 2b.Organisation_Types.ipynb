{
 "cells": [
  {
   "cell_type": "markdown",
   "metadata": {},
   "source": [
    "# 2b: Organisation Categories\n",
    "\n",
    "The IAC is an interesting event, not least because it brings together different actors from the space community: space agencies, governments, companies, universities, NGOs...\n",
    "\n",
    "I'd like to leverage this fact, but the original data did not provide whether a particular organisation is a university or a space agency. We'll take care of that here."
   ]
  },
  {
   "cell_type": "code",
   "execution_count": null,
   "metadata": {
    "executionInfo": {
     "elapsed": 12,
     "status": "ok",
     "timestamp": 1667459312997,
     "user": {
      "displayName": "Daniel Leichte",
      "userId": "15787498902779762448"
     },
     "user_tz": -60
    },
    "id": "JMG1lECIruXI"
   },
   "outputs": [],
   "source": [
    "import re\n",
    "import json\n",
    "import pickle"
   ]
  },
  {
   "cell_type": "markdown",
   "metadata": {
    "id": "LX3IMXmazM6I"
   },
   "source": [
    "## 1. Inputs Unpickling"
   ]
  },
  {
   "cell_type": "code",
   "execution_count": 5,
   "metadata": {
    "executionInfo": {
     "elapsed": 4,
     "status": "ok",
     "timestamp": 1667459355462,
     "user": {
      "displayName": "Daniel Leichte",
      "userId": "15787498902779762448"
     },
     "user_tz": -60
    },
    "id": "JytnEYMxuMC_"
   },
   "outputs": [],
   "source": [
    "directory = \"/content/drive/MyDrive/Colab Notebooks/ESPI_Codes/IAC_Analysis/2.Pre-Processing/\"\n",
    "with open(directory+\"2a.cleaned_organisation_names.pickle\", \"rb\") as f:\n",
    "  raw1 = pickle.load(f)"
   ]
  },
  {
   "cell_type": "markdown",
   "metadata": {
    "id": "HQ7pW21B0qCC"
   },
   "source": [
    "## 2. Creating Categories"
   ]
  },
  {
   "cell_type": "markdown",
   "metadata": {
    "id": "ywEjeXuTXp6r"
   },
   "source": [
    "When an organisation is a university, it'll often use that word in its name. Likewise, companies often include their legal form in their name (\"AG\" for joint stock company). The code below constructs a list of organisation type identifiers. If an organisation has \"universi\" or \"institut\" in it's name, it's matched as a university. Then comes the manual part: for every organisation that has submitted at least five abstracts in any year of the period and it has not been matched automatically, I manually added it to the list."
   ]
  },
  {
   "cell_type": "code",
   "execution_count": 6,
   "metadata": {
    "executionInfo": {
     "elapsed": 335,
     "status": "ok",
     "timestamp": 1667459356167,
     "user": {
      "displayName": "Daniel Leichte",
      "userId": "15787498902779762448"
     },
     "user_tz": -60
    },
    "id": "7Ie6LryL0shS"
   },
   "outputs": [],
   "source": [
    "categories = {\"space agency\": [\"space agency\", \"Space Agency\", \"DLR\", \"ESA\", \"ASI\", \"JAXA\", \"CNES\", \"NASA\", \"ISRO\", \"EUSPA\", \"ROSCOSMOS\", \n",
    "                               \"China Academy of Space Technology\", \"ESTEC\", \"Jet Propulsion Laboratory\", \"KARI\", \"Agence Spatiale Algrienne\", \"Agencia Boliviana Espacial\"],\n",
    "              \n",
    "              \"university\": [\"universi\", \"institut\", \"Universi\", \"Institut\", \"Politec\", \"politec\", \"Polytec\", \"Polytec\", \n",
    "                             \"College\", \"college\", \"Universty\", \"Univeristy\",\"Ecole\", \"Universidad\", \"School\", \"Univerisity\", \"Uiniversity\", \"Hochschule\",\n",
    "                             \"Universidad\", \"Facultad\", \"UNIVERSIDAD\", \"Institute of Technology\", \"Scuola\", \"Faculty\", \"Institue of Technology\",\n",
    "                             \"TU Berlin\", \"TU Graz\", \"McGill\", \"TU Delf\", \"KU Leuven\", \"TU Braunschweig\", \"Royal Military Academy\", \"ETHZ\",\n",
    "                             \"TU Munchen\", \"TU Munich\", \"TU Muenchen\", \"TU Wien\", \"TU Vienna\", \"U.C. Berkeley\", \"TU Clausthal\", \"Institute of Technology\", \"TU Darmstadt\", \n",
    "                             \"TU Dresden\", \"UNSW Australia\", \"New Mexico Tech\", \"RWTH\", \"UC Davis\", \"UC Berkeley\", \"UNAM\", \"Beijing Institude of technology\",\n",
    "                             \"TU Bergakademie Freiberg\", \"INSA de Lyon\", \"Caltech\", \"IMT Mines Albi\", \"IIIT Delhi\", \"RNSIT Bangalore\", \"ISU\", \"NTNU\",\n",
    "                             \"Shaanxi Engineering Laboratory for Microsatellites\", \"UPC-BarcelonaTECH\", \"Tecnolgico de Estudios Superiores de Ecatepec\",\n",
    "                             \"MEDES - IMPS\", \"CTU in Prague\", \"BTU Cottbus\", \"Princeton Plasma Physics Laboratory\",\n",
    "                             ],\n",
    "              \n",
    "              \"other research institutions\": [\"Purple Mountain Observatory\", \"Center\", \"Centre\", \"Chinese Academy of Sciences\",\n",
    "                               \"Zentrum\", \"TNO\", \"Fraunhofer\", \"Academy\", \"INAF\", \"Centro\", \"Helmholtz\", \"Observatory\", \"Observatoire\", \"Academies\",\n",
    "                               \"KNMI\", \"CSSTEAP\", \"U.S. Geological Survey\", \"LAAS-CNRS\", \"VITO nv\", \"Geoforschungszentrum\", \"Bundesanstalt\", \"Joanneum\",\n",
    "                               \"Naval Research Laboratory\", \"INSERM\",  \"IARI\", \"Istituto Italiano di Tecnologia\", \"RIKEN\", \"CNRS\", \"Unmanned Exploration Laboratory (UEL)\",\n",
    "                               \"National Insitute of Nuclear Physics\", \"Istituto Nazionale di Fisica Nucleare\", \"LEEM-UPM\", \"Liquid Propulsion System centre\",\n",
    "                               \"CALT\", \"DMARS\", \"D-MARS\", \"Unidroit\", \"CSIRO\", \"GTD\", \"Science and Technology on Space Physics Laboratory\", \"Italian National Research Council (CNR)\",\n",
    "                               \"IFAC-CNR\", \"ITA-DCTA\", \"JHU Applied Physics Laboratory\", \"National Nuclear Laboratory\", \"International Space Station\",\n",
    "                               \"Office National dEtudes et de Recherches Arospatiales\", \"National Key Laboratory of Aerospace Flight Dynamics\",\n",
    "                               \"ONERA - The French Aerospace Lab\", \"MBRSC\", \"National Technology of Mexico\", \"Italian National Research Council\",\n",
    "                               \"\"\"Commissariat l'nergie atomique et aux nergies alternatives\"\"\", \"National Research Council\", \"Consiglio Nazionale delle Ricerche\",\n",
    "                               \"Consejo Superior de Investigaciones Cientficas\", \"Council for Scientific and Industrial Research\", \"Colegio Federado de Ingenieros y de Arquitectos de Costa Rica\",\n",
    "                               \"Mauritius Research and Innovation Council\", \"Pakistan Space and Upper Atmosphere Research Commission\"\n",
    "                               ],\n",
    "              \n",
    "              \"other\": [\"ESO\", \"UN Office\", \"EUMETSAT\", \"Air Force\", \"Society\", \"Museum\", \"Hospital\", \"Foundation\", \"e.V.\", \"Association\", \"IFALPA\", \"Agency\", \"Ministry\",\n",
    "                        \"United Nations\", \"Associazione\", \"National Research Fund\", \"Initiative for Interstellar Studies\", \"European External Action Service\", \"Mars Without Borders\",\n",
    "                        \"DreamUp\",\"Nexus Aurora\", \"European Organization for Nuclear Research\", \"ITU\", \"EISMEA\", \"Breakthrough Initiatives\", \"NOAA\", \"EURISY\",\n",
    "                        \"ILEWG\", \"City of Los Angeles\", \"ASTRAX KIDS\", \"ATOMX Education\", \"Fondazione E. Amaldi\", \"UNISEC-Global\", \"US DoD\", \"International MoonBase Alliance\",\n",
    "                        \"Yuzhnoye State Design Office\", \"U R RAO SATELLITE CENTRE\", \"INPE\", \"ISTI-CNR\", \"Aeronautica Militare\", \"SGAC\", \"Slovak Organisation for Space Activities\",\n",
    "                        \"Swedish National Space Board (SNSB)\", \"Catena Space\", \"FSC RF-IMBP\",\n",
    "                        \"CAST\", \"BECCAL collaboration\", \"Reunion Island Space Initiative\", \"BLUECUBE Aerospace\", \"Space Renaissance International\",\n",
    "                        \"Federal Aviation Administration\", \"European Commission\", \"Chamber of Commerce\", \"Comision Colombiana del Espacio\"\n",
    "              ],\n",
    "              \n",
    "              \"company\": [\"inc.\", \"Inc.\", \"Company\", \"Co.\",\"Airbus\", \"S.p.A.\", \"S.p.A\", \"SPA\", \"SpA\", \"GmbH\", \"gmbh\", \"AG\", \"SAS\", \"S.R.L.\", \"Ltd\", \"LTD\", \"LLC\",\n",
    "                          \"L.L.C\", \"S.A.\", \"B.V.\", \"Srl\", \"Inc\", \"SRL\", \"srl\", \"INC.\", \"GMBH\",\n",
    "                          \"S.r.l\", \"Solutions\", \"Industry\", \"Industries\", \"Instruments\", \"Systems\",\n",
    "                          \"S.A.T.E.\", \"Ariane\", \"ArianeGroup\",\n",
    "                          \"OHB\", \"Thales\", \"Raphael\", \"Dassault\", \"Gomspace\", \"Boeing\", \"Bryce\", \"Lockheed\", \"Euroconsult\", \"LeoLabs\", \"Planet\",\n",
    "                          \"OneWeb\", \"Oneweb\", \"Enpulsion\", \"ENPULSION\", \"ICEYE\", \"Kayser\", \n",
    "                          \"MDA\", \"Pioneer Astronautics\", \"TECHNO SYSTEM DEV\", \"Technologies\", \"Argotec\", \"EADS\", \"IBM\", \"Group\", \"srl\",\n",
    "                          \"Blue Horizon\", \"RHEA\", \"Air Liquide\", \"Bayern Chemie\", \"Tata\", \"SSC\", \"BEEVERYCREATIVE\", \"Jacobs\", \"SODERN\", \"Sodern\", \"SENER\", \"JSC Glavkosmos\",\n",
    "                          \"BHO Legal\", \"Valles Marineris International Private Limited\", \"Thales\", \"THALES\",\"Kongsberg\", \"Deloitte\", \"Caribou Digital\", \"Booz, Allen & Hamilton\",\n",
    "                          \"Aerojet Rocketdyne\", \"Europropulsion\", \"Beyond Gravity\", \"Iridium\", \"Orbital Loft\", \"Destinus\", \"Roketsan\", \"Leap Biosystems\", \"Astronika\",\n",
    "                          \"maxon motor\", \"LIDE\", \"e-GEOS\", \"Orbit Logic\", \"Scanway\", \"Elecnor\", \"ARESYS\", \"Rocket Factory Augsburg\", \"Aubert & Duval\", \"Orbit Fab\",\n",
    "                          \"Almatech SA\", \"EnduroSat AD\", \"CASC\", \"Ghalam LLP\", \"Rocket Lab\", \"Vieira de Almeida & Associados\", \"Eutelsat\", \"S\\[&]T\",\n",
    "                          \"UC Rusal\", \"Beyond Gravity\", \"GomSpace\", \"Leonardo Spa\", \"Science \\[&] Technology AS\", \"Sitael Spa\", \"Valispace\", \"GMV Aerospace & Defence SAU\",\n",
    "                          \"Space Applications Services NV\", \"LuxSpace Sarl\", \"Deimos Space SLU\", \"SpaceForest\", \"Space Applications Services N.V\", \"KBRwyle\",\n",
    "                          \"Space Applications Services\", \"Honeybee Robotics\", \"Deimos Space\", \"Telespazio\", \"T4i\", \"Unmanned Exploration Laboratory\", \"Spaceonova\",\n",
    "                          \"Advanced Space\", \"SAFRAN\", \"ASTRAX\", \"LandSpace Technology\"\n",
    "                          ],\n",
    "\n",
    "                        \n",
    "              \"rest\": [],\n",
    "              }"
   ]
  },
  {
   "cell_type": "markdown",
   "metadata": {
    "id": "_FWxP-5GXt5S"
   },
   "source": [
    "## 3. Implementing Organisation Categories"
   ]
  },
  {
   "cell_type": "markdown",
   "metadata": {
    "id": "NdQeO2xQxgwH"
   },
   "source": [
    "Creating a simplified dict:"
   ]
  },
  {
   "cell_type": "code",
   "execution_count": 18,
   "metadata": {
    "executionInfo": {
     "elapsed": 219,
     "status": "ok",
     "timestamp": 1667460008688,
     "user": {
      "displayName": "Daniel Leichte",
      "userId": "15787498902779762448"
     },
     "user_tz": -60
    },
    "id": "viXAYCmpUs5f"
   },
   "outputs": [],
   "source": [
    "raw2 = {}\n",
    "for key, value in raw1.items():\n",
    "  raw2.update({key: []})\n",
    "  for organisation in value:\n",
    "    if re.search(\"|\".join(categories[\"space agency\"]), organisation):\n",
    "      raw2[key].append({\"Name\": organisation, \"Type\": \"Space Agency\"})\n",
    "    elif re.search(\"|\".join(categories[\"university\"]), organisation):\n",
    "      raw2[key].append({\"Name\": organisation, \"Type\": \"University\"})\n",
    "    elif re.search(\"|\".join(categories[\"other research institutions\"]), organisation):\n",
    "      raw2[key].append({\"Name\": organisation, \"Type\": \"Other Research Institution\"})\n",
    "    elif re.search(\"|\".join(categories[\"other\"]), organisation):\n",
    "      raw2[key].append({\"Name\": organisation, \"Type\": \"Other\"})\n",
    "    elif re.search(\"|\".join(categories[\"company\"]), organisation):\n",
    "      raw2[key].append({\"Name\": organisation, \"Type\": \"Company\"})\n",
    "    else:\n",
    "      raw2[key].append({\"Name\": organisation, \"Type\": \"Unknown\"})"
   ]
  },
  {
   "cell_type": "code",
   "execution_count": null,
   "metadata": {
    "id": "D3Kpe8LVWVUW"
   },
   "outputs": [],
   "source": [
    "#raw2[\"45305\"]"
   ]
  },
  {
   "cell_type": "markdown",
   "metadata": {
    "id": "I6zxENL0YVZP"
   },
   "source": [
    "## 4. Exporting"
   ]
  },
  {
   "cell_type": "code",
   "execution_count": 23,
   "metadata": {
    "executionInfo": {
     "elapsed": 3,
     "status": "ok",
     "timestamp": 1667460877376,
     "user": {
      "displayName": "Daniel Leichte",
      "userId": "15787498902779762448"
     },
     "user_tz": -60
    },
    "id": "DJeB6QDvaHiX"
   },
   "outputs": [],
   "source": [
    "with open(\"2b.orga_names_and_types.pickle\", \"wb\") as handle:\n",
    "  pickle.dump(raw2, handle, protocol = pickle.HIGHEST_PROTOCOL)"
   ]
  },
  {
   "cell_type": "markdown",
   "metadata": {},
   "source": [
    "# 5. Conclusion\n",
    "\n",
    "In this notebook, I added a new feature to the dataset: organisation type. This will be very useful to see the composition of organisation types at the IAC. In the next and final part of the pre-processing step, I'll pre-process the abstracts themselves."
   ]
  },
  {
   "cell_type": "code",
   "execution_count": null,
   "metadata": {},
   "outputs": [],
   "source": []
  }
 ],
 "metadata": {
  "colab": {
   "authorship_tag": "ABX9TyMcvj13qgqA9W+IWeoYW7XO",
   "mount_file_id": "1OKpcKKM5ID1j2C2UOT8hPj2rzK7r7bOu",
   "provenance": []
  },
  "kernelspec": {
   "display_name": "Python 3",
   "language": "python",
   "name": "python3"
  },
  "language_info": {
   "codemirror_mode": {
    "name": "ipython",
    "version": 3
   },
   "file_extension": ".py",
   "mimetype": "text/x-python",
   "name": "python",
   "nbconvert_exporter": "python",
   "pygments_lexer": "ipython3",
   "version": "3.8.8"
  }
 },
 "nbformat": 4,
 "nbformat_minor": 1
}
